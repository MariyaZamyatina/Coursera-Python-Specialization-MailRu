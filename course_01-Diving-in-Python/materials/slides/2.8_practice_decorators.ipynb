{
 "cells": [
  {
   "cell_type": "code",
   "execution_count": 1,
   "metadata": {},
   "outputs": [],
   "source": [
    "def decorator(func):\n",
    "    return func\n",
    "\n",
    "@decorator\n",
    "def decorated():\n",
    "    print('Hello!')"
   ]
  },
  {
   "cell_type": "code",
   "execution_count": 2,
   "metadata": {},
   "outputs": [
    {
     "name": "stdout",
     "output_type": "stream",
     "text": [
      "Hello!\n"
     ]
    }
   ],
   "source": [
    "decorated()"
   ]
  },
  {
   "cell_type": "code",
   "execution_count": 3,
   "metadata": {},
   "outputs": [],
   "source": [
    "def decorator(func):\n",
    "    return func\n",
    "\n",
    "def decorated():\n",
    "    print('Hello!')\n",
    "    \n",
    "decorated = decorator(decorated)"
   ]
  },
  {
   "cell_type": "code",
   "execution_count": 4,
   "metadata": {},
   "outputs": [
    {
     "name": "stdout",
     "output_type": "stream",
     "text": [
      "Hello!\n"
     ]
    }
   ],
   "source": [
    "decorated()"
   ]
  },
  {
   "cell_type": "code",
   "execution_count": null,
   "metadata": {},
   "outputs": [],
   "source": []
  },
  {
   "cell_type": "code",
   "execution_count": 8,
   "metadata": {},
   "outputs": [
    {
     "name": "stdout",
     "output_type": "stream",
     "text": [
      "new_func print\n",
      "new_func\n"
     ]
    }
   ],
   "source": [
    "def decorator(func):\n",
    "    def new_func():\n",
    "        print('new_func print')\n",
    "    return new_func\n",
    "\n",
    "\n",
    "@decorator\n",
    "def decorated():\n",
    "    print('Hello!')\n",
    "    \n",
    "#decorated = decorator(decorated)\n",
    "\n",
    "decorated()\n",
    "\n",
    "print(decorated.__name__)"
   ]
  },
  {
   "cell_type": "code",
   "execution_count": null,
   "metadata": {},
   "outputs": [],
   "source": []
  },
  {
   "cell_type": "code",
   "execution_count": 10,
   "metadata": {},
   "outputs": [
    {
     "name": "stdout",
     "output_type": "stream",
     "text": [
      "decorator print\n",
      "decorated print\n",
      "Summator: 10\n",
      "wrapped\n"
     ]
    }
   ],
   "source": [
    "def logger(func):\n",
    "    def wrapped(num_list):\n",
    "        print('decorator print')\n",
    "        \n",
    "        result = func(num_list)\n",
    "        with open('log.txt', 'w') as f:\n",
    "            f.write(str(result))\n",
    "\n",
    "        return result    \n",
    "    return wrapped\n",
    "\n",
    "\n",
    "#@logger\n",
    "def summator(num_list):\n",
    "    print('decorated print')\n",
    "    return sum(num_list)\n",
    "\n",
    "summator = logger(summator)\n",
    "\n",
    "print('Summator: {}'.format(summator([1, 2, 3, 4])))\n",
    "\n",
    "print(summator.__name__)"
   ]
  },
  {
   "cell_type": "code",
   "execution_count": 11,
   "metadata": {},
   "outputs": [
    {
     "name": "stdout",
     "output_type": "stream",
     "text": [
      "decorator print\n",
      "decorated print\n",
      "Summator: 10\n",
      "wrapped\n"
     ]
    }
   ],
   "source": [
    "def logger(func):\n",
    "    def wrapped(*args, **kwargs):\n",
    "        print('decorator print')\n",
    "        \n",
    "        result = func(*args, **kwargs)\n",
    "        with open('log.txt', 'w') as f:\n",
    "            f.write(str(result))\n",
    "\n",
    "        return result    \n",
    "    return wrapped\n",
    "\n",
    "\n",
    "#@logger\n",
    "def summator(num_list):\n",
    "    print('decorated print')\n",
    "    return sum(num_list)\n",
    "\n",
    "summator = logger(summator)\n",
    "\n",
    "print('Summator: {}'.format(summator([1, 2, 3, 4])))\n",
    "\n",
    "print(summator.__name__)"
   ]
  },
  {
   "cell_type": "code",
   "execution_count": 12,
   "metadata": {},
   "outputs": [
    {
     "name": "stdout",
     "output_type": "stream",
     "text": [
      "decorator print\n",
      "decorated print\n",
      "Summator: 10\n",
      "summator\n"
     ]
    }
   ],
   "source": [
    "import functools\n",
    "\n",
    "def logger(func):\n",
    "    @functools.wraps(func)\n",
    "    def wrapped(*args, **kwargs):\n",
    "        print('decorator print')\n",
    "        \n",
    "        result = func(*args, **kwargs)\n",
    "        with open('log.txt', 'w') as f:\n",
    "            f.write(str(result))\n",
    "\n",
    "        return result    \n",
    "    return wrapped\n",
    "\n",
    "\n",
    "#@logger\n",
    "def summator(num_list):\n",
    "    print('decorated print')\n",
    "    return sum(num_list)\n",
    "\n",
    "summator = logger(summator)\n",
    "\n",
    "print('Summator: {}'.format(summator([1, 2, 3, 4])))\n",
    "\n",
    "print(summator.__name__)"
   ]
  },
  {
   "cell_type": "markdown",
   "metadata": {},
   "source": [
    "### декоратор с параметром"
   ]
  },
  {
   "cell_type": "code",
   "execution_count": 14,
   "metadata": {},
   "outputs": [
    {
     "name": "stdout",
     "output_type": "stream",
     "text": [
      "decorator print\n",
      "decorated print\n",
      "Summator: 10\n"
     ]
    }
   ],
   "source": [
    "def logger(filename):\n",
    "    def decorator(func):\n",
    "        def wrapped(*args, **kwargs):\n",
    "            print('decorator print')\n",
    "            result = func(*args, **kwargs)\n",
    "            with open(filename, 'w') as f:\n",
    "                f.write(str(result))\n",
    "            return result    \n",
    "        return wrapped\n",
    "    return decorator\n",
    "\n",
    "\n",
    "#@logger('new_log.txt')\n",
    "def summator(num_list):\n",
    "    print('decorated print')\n",
    "    return sum(num_list)\n",
    "\n",
    "summator = logger('new_log.txt')(summator)\n",
    "\n",
    "print('Summator: {}'.format(summator([1, 2, 3, 4])))"
   ]
  },
  {
   "cell_type": "code",
   "execution_count": null,
   "metadata": {},
   "outputs": [],
   "source": []
  },
  {
   "cell_type": "code",
   "execution_count": 15,
   "metadata": {},
   "outputs": [
    {
     "name": "stdout",
     "output_type": "stream",
     "text": [
      "Inside first_decorator product\n",
      "Inside second_decorator product\n",
      "Finally called...\n"
     ]
    }
   ],
   "source": [
    "def first_decorator(func):\n",
    "    def wrapped():\n",
    "        print('Inside first_decorator product')\n",
    "        return func()\n",
    "    return wrapped\n",
    "\n",
    "\n",
    "def second_decorator(func):\n",
    "    def wrapped():\n",
    "        print('Inside second_decorator product')\n",
    "        return func()\n",
    "    return wrapped\n",
    "\n",
    "@first_decorator\n",
    "@second_decorator\n",
    "def decorated():\n",
    "    print('Finally called...')\n",
    "    \n",
    "# decorated = first_decorator(second_decorator(decorated))\n",
    "    \n",
    "decorated()"
   ]
  },
  {
   "cell_type": "code",
   "execution_count": null,
   "metadata": {},
   "outputs": [],
   "source": []
  },
  {
   "cell_type": "code",
   "execution_count": 16,
   "metadata": {},
   "outputs": [
    {
     "name": "stdout",
     "output_type": "stream",
     "text": [
      "<b><i>hello world</i></b>\n"
     ]
    }
   ],
   "source": [
    "def bold(func):\n",
    "    def wrapped():\n",
    "        return \"<b>\" + func() + \"</b>\"\n",
    "    return wrapped\n",
    "\n",
    "\n",
    "def italic(func):\n",
    "    def wrapped():\n",
    "        return \"<i>\" + func() + \"</i>\"\n",
    "    return wrapped\n",
    "\n",
    "\n",
    "@bold\n",
    "@italic\n",
    "def hello():\n",
    "    return \"hello world\"\n",
    "\n",
    "\n",
    "# hello = bold(italic(hello))\n",
    "\n",
    "\n",
    "print(hello())"
   ]
  }
 ],
 "metadata": {
  "kernelspec": {
   "display_name": "Python 3",
   "language": "python",
   "name": "python3"
  },
  "language_info": {
   "codemirror_mode": {
    "name": "ipython",
    "version": 3
   },
   "file_extension": ".py",
   "mimetype": "text/x-python",
   "name": "python",
   "nbconvert_exporter": "python",
   "pygments_lexer": "ipython3",
   "version": "3.6.3"
  }
 },
 "nbformat": 4,
 "nbformat_minor": 2
}
