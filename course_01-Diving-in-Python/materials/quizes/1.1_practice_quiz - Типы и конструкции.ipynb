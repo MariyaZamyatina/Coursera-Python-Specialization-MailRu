{
 "cells": [
  {
   "cell_type": "markdown",
   "metadata": {},
   "source": [
    "## Тест на типы и конструкции"
   ]
  },
  {
   "cell_type": "markdown",
   "metadata": {},
   "source": [
    "**1.** 10 / 2 – что получится в результате деления?\n",
    " - Вещественное число 5.0 **[+]**\n",
    " - Целое число 5"
   ]
  },
  {
   "cell_type": "markdown",
   "metadata": {},
   "source": [
    "**2.** bool(0.0) – True или False?\n",
    " - False **[+]**\n",
    " - True"
   ]
  },
  {
   "cell_type": "markdown",
   "metadata": {},
   "source": [
    "**3.** Чему равно name?\n",
    "- True \n",
    "- 12 **[+]**\n",
    "- 0\n",
    "- False"
   ]
  },
  {
   "cell_type": "code",
   "execution_count": null,
   "metadata": {},
   "outputs": [],
   "source": [
    "x = 0\n",
    "y = 12\n",
    "name = x or y"
   ]
  },
  {
   "cell_type": "markdown",
   "metadata": {},
   "source": [
    "**4.** Что выведет print(r\"//\\\\\") ?\n",
    " - /\\\n",
    " - //\\\n",
    " - //\\\\ **[+]**"
   ]
  },
  {
   "cell_type": "markdown",
   "metadata": {},
   "source": [
    "**5.** Выберите правильные варианты объявления строки в Python?\n",
    "\n",
    " - r\"строка\" **[+]**\n",
    " - f\"строка\" **[+]**\n",
    " - \"\"\"строка\"\"\" **[+]**\n",
    " - \"строка\" **[+]**\n",
    " - 'строка' **[+]**"
   ]
  },
  {
   "cell_type": "markdown",
   "metadata": {},
   "source": [
    "**6.** Отметьте правдивые факты про строки\n",
    "\n",
    "- строки в Python - это последовательность чисел от 0 до 255\n",
    "- строки - это последовательность юникодных символов **[+]**\n",
    "- строки в Python неизменяемые **[+]**\n",
    "\n",
    "\n",
    "**7.** Что получится в результате выполнения \"a\"*3 ?\n",
    "\n",
    "- Упадет исключение\n",
    "- Строка \"aaa\" **[+]**\n",
    "\n",
    "**8.** Что получится в результате выполнения среза [::-1] для строки “привет”?\n",
    "\n",
    "- “т”\n",
    "- “тевирп” **[+]**\n",
    "\n",
    "\n",
    "**9.** Срез [:] строки \"привет\"\n",
    "\n",
    "- вернет пустую строку\n",
    "- вернет копию строки \"привет\" **[+]**\n",
    "- приведет к исключению SyntaxError\n",
    "\n",
    "\n",
    "**10.** bool(\"\")\n",
    "\n",
    "- False **[+]**\n",
    "- True\n",
    "\n",
    "**11.** Истинные выражения про байтовые строки\n",
    "\n",
    "- Это последовательность чисел от 0 до 255 **[+]**\n",
    "- Это последовательность юникодных символов\n",
    "\n",
    "**12.** Какой метод превратит строку в байтовую строку?\n",
    "\n",
    "- encode() **[+]**\n",
    "- decode()\n",
    "\n",
    "\n",
    "**13.** Какие из записей не приведут к исключению?\n",
    "\n",
    "- b\"test\" **[+]**\n",
    "- b\"тест\"\n",
    "- b\"\" **[+]**"
   ]
  },
  {
   "cell_type": "markdown",
   "metadata": {},
   "source": [
    "**14.** Что выведет программа с if elif else?\n",
    "\n",
    "- 3 **[+]**\n",
    "- 2\n",
    "- 1"
   ]
  },
  {
   "cell_type": "code",
   "execution_count": null,
   "metadata": {},
   "outputs": [],
   "source": [
    "x = \"Москва\"\n",
    "if \"ква\" not in x:\n",
    "  print(\"1\")\n",
    "elif \"ва\" not in x:\n",
    "  print(\"2\")\n",
    "else:\n",
    "  print(\"3\")"
   ]
  },
  {
   "cell_type": "markdown",
   "metadata": {},
   "source": [
    "**15.** Что выведет программа?\n",
    "\n",
    "- 3\n",
    "- 0 **[+]**\n",
    "- Это бесконечный цикл\n",
    "- 2"
   ]
  },
  {
   "cell_type": "code",
   "execution_count": null,
   "metadata": {},
   "outputs": [],
   "source": [
    "n = 0\n",
    "while n < 3:\n",
    "    if n > 0:\n",
    "        continue\n",
    "    else:\n",
    "        break\n",
    "    n += 1\n",
    "\n",
    "print(n)"
   ]
  },
  {
   "cell_type": "markdown",
   "metadata": {},
   "source": [
    "**16.** Что выведет программа?\n",
    "\n",
    "- 23456789\n",
    "- 246810\n",
    "- 2468 **[+]**"
   ]
  },
  {
   "cell_type": "code",
   "execution_count": null,
   "metadata": {},
   "outputs": [],
   "source": [
    "s = \"\"\n",
    "\n",
    "for i in range(2, 10, 2):\n",
    "    s += str(i)\n",
    "\n",
    "print(s)"
   ]
  }
 ],
 "metadata": {
  "kernelspec": {
   "display_name": "Python 3",
   "language": "python",
   "name": "python3"
  },
  "language_info": {
   "codemirror_mode": {
    "name": "ipython",
    "version": 3
   },
   "file_extension": ".py",
   "mimetype": "text/x-python",
   "name": "python",
   "nbconvert_exporter": "python",
   "pygments_lexer": "ipython3",
   "version": "3.6.3"
  }
 },
 "nbformat": 4,
 "nbformat_minor": 2
}
