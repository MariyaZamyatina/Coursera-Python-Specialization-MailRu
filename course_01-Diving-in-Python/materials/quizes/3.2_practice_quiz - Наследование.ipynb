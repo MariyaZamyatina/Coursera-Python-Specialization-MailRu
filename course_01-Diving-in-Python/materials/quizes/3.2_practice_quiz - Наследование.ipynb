{
 "cells": [
  {
   "cell_type": "markdown",
   "metadata": {},
   "source": [
    "## Practice quiz - Наследование"
   ]
  },
  {
   "cell_type": "markdown",
   "metadata": {},
   "source": [
    "**1.** Наследование классов нужно:\n",
    "- для изменения поведения класса **[+]**\n",
    "- для создания экземпляров класса\n",
    "- для расширения функционала класса**[+]**\n",
    "- для ограничения доступа к атрибутам класса предка\n",
    "\n",
    "**2.** Выберите истинные утверждения\n",
    "- Для вызова нужного метода используется линеаризация класса **[+]**\n",
    "- Все классы в python унаследованы от класса object **[+]**\n",
    "- В Python разрешено множественное наследование **[+]**\n",
    "- Классы-примеси используются в множественном наследовании **[+]**\n",
    "\n",
    "**3.** Предположим есть базовый класс питомец - Pet и класс наследник - Dog. Отметьте все варианты вызова метода - Pet.\\_\\_init__ из инициализатора класса потомка.\n",
    "- super(Pet, self).\\_\\_init__()\n",
    "- super().\\_\\_init__() **[+]**\n",
    "- super(Dog, self).\\_\\_init__() **[+]**\n",
    "\n",
    "**4.** Предположим есть базовый класс питомец - Pet и класс наследник - Dog. Отметьте варианты, которые вернут True\n",
    "- issubclass(Pet, Dog)\n",
    "- issubclass(Dog, object) **[+]**\n",
    "- issubclass(Dog, Pet) **[+]**\n",
    "- issubclass(Pet, object) **[+]**\n",
    "\n",
    "**5.** Предположим есть базовый класс питомец - Pet и класс наследник - Dog. Отметьте варианты, которые вернут True\n",
    "- isinstance(Pet(), object) **[+]**\n",
    "- isinstance(Dog, Dog)\n",
    "- isinstance(Pet(), Dog) \n",
    "- isinstance(Dog(), Pet) **[+]**\n",
    "- isinstance(Dog(), Dog) **[+]**"
   ]
  }
 ],
 "metadata": {
  "kernelspec": {
   "display_name": "Python 3",
   "language": "python",
   "name": "python3"
  },
  "language_info": {
   "codemirror_mode": {
    "name": "ipython",
    "version": 3
   },
   "file_extension": ".py",
   "mimetype": "text/x-python",
   "name": "python",
   "nbconvert_exporter": "python",
   "pygments_lexer": "ipython3",
   "version": "3.6.3"
  }
 },
 "nbformat": 4,
 "nbformat_minor": 2
}
