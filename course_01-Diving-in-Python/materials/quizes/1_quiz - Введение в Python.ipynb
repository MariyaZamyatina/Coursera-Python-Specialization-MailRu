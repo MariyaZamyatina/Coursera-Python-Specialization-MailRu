{
 "cells": [
  {
   "cell_type": "markdown",
   "metadata": {},
   "source": [
    "## Quiz - Введение в Python"
   ]
  },
  {
   "cell_type": "markdown",
   "metadata": {},
   "source": [
    "**1.** Совместимы ли Python 2 и Python 3?\n",
    "\n",
    "- Совместимы полностью\n",
    "- Несовместимы **[+]**\n",
    "\n",
    "**2.** На каком языке программирования написана основная реализация спецификации Python?\n",
    "\n",
    "- Java\n",
    "- C **[+]**\n",
    "- Python\n",
    "\n",
    "**3.** Какое расширение обычно дают файлам с кодом на Python?\n",
    "- .pyc\n",
    "- .python\n",
    "- .py **[+]**\n",
    "\n",
    "**4.** Как пишутся комментарии в Python?\n",
    "- // это комментарий\n",
    "- \\# это комментарий **[+]**\n",
    "- /* это комментарий */  **[+]**\n",
    "\n",
    "**5.** Какие имена переменных правильные?\n",
    "- !name\n",
    "- _name **[+]**\n",
    "- 1name\n",
    "- name **[+]**\n",
    "\n",
    "**6.** bool(0.000001) - True или False?\n",
    "- False\n",
    "- True **[+]**\n",
    "\n",
    "**7.** Что получится в результате выполнения среза [0:1] для строки \"привет\"?\n",
    "- \"п\" **[+]**\n",
    "- \"\"\n",
    "- \"пр\"\n",
    "\n",
    "**8.** Какая функция позволяет считать ввод пользователя из терминала?\n",
    "- read()\n",
    "- enter()\n",
    "- readline()\n",
    "- input() **[+]**\n",
    "\n",
    "**9.** Какой метод превратит байтовую строку в строку?\n",
    "- .decode() **[+]**\n",
    "- .encode()\n",
    "\n",
    "**10.** Чему будет равен pi_fmt?\n",
    "- Строке \"3.14\" **[+]**\n",
    "- Числу 3.14"
   ]
  },
  {
   "cell_type": "code",
   "execution_count": 1,
   "metadata": {},
   "outputs": [],
   "source": [
    "pi = 3.1415926\n",
    "pi_fmt = f\"{pi:#0.2f}\""
   ]
  },
  {
   "cell_type": "markdown",
   "metadata": {},
   "source": [
    "**11.** Предположим, есть пакет foo, в котором находится модуль bar.py, внутри bar.py определена функция с именем run. Какая конструкция импорта является правильной?\n",
    "\n",
    "- import run from foo.bar\n",
    "- from foo.bar import run **[+]**\n",
    "- import foo.bar.run\n",
    "\n",
    "**12.** Предположим, есть код. Сколько раз напечатаются идиомы Python?\n",
    "- Только единожды **[+]**\n",
    "- Дважды"
   ]
  },
  {
   "cell_type": "code",
   "execution_count": null,
   "metadata": {},
   "outputs": [],
   "source": [
    "import this\n",
    "import this"
   ]
  },
  {
   "cell_type": "markdown",
   "metadata": {},
   "source": [
    "**13.** Зачем нужен virtualenv (виртуальное окружение)?\n",
    "- Возможность увеличить скорость запуска скомпилированных в байткод Python-программ\n",
    "- Изоляция зависимостей **[+]**\n",
    "- Возможность запускать несколько интерпретаторов Python одновременно\n",
    "\n",
    "**14.** Какая утилита позволяет ставить внешние Python пакеты в систему?\n",
    "- pip **[+]**\n",
    "- pep\n",
    "- pypi\n",
    "\n",
    "**15.** Что содержат файлы с расширением .pyc?\n",
    "- Код на Python, cкомпилированный в машинный код\n",
    "- Код на Python, cкомпилированный в байткод **[+]**"
   ]
  }
 ],
 "metadata": {
  "kernelspec": {
   "display_name": "Python 3",
   "language": "python",
   "name": "python3"
  },
  "language_info": {
   "codemirror_mode": {
    "name": "ipython",
    "version": 3
   },
   "file_extension": ".py",
   "mimetype": "text/x-python",
   "name": "python",
   "nbconvert_exporter": "python",
   "pygments_lexer": "ipython3",
   "version": "3.6.3"
  }
 },
 "nbformat": 4,
 "nbformat_minor": 2
}
