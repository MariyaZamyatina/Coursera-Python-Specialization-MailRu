{
 "cells": [
  {
   "cell_type": "markdown",
   "metadata": {},
   "source": [
    "## Week 1 - Введение в Python"
   ]
  },
  {
   "cell_type": "markdown",
   "metadata": {},
   "source": [
    "### PA 1.1 - Сумма цифр в строке"
   ]
  },
  {
   "cell_type": "markdown",
   "metadata": {},
   "source": [
    "Давайте начнем с несложной задачки - ваша цель найти сумму цифр, из которых состоит строка.\n",
    "\n",
    "Вы должны создать Python модуль **solution.py** и загрузить его на платформу – этот файл мы запустим с аргументом командной строки – строкой, состоящей из цифр. Например, вот такой:\n",
    "\n",
    "“873”\n",
    "\n",
    "Чтобы получить ввод, вы в начале программы можете считать его, используя модуль стандартной библиотеки sys:"
   ]
  },
  {
   "cell_type": "code",
   "execution_count": null,
   "metadata": {},
   "outputs": [],
   "source": [
    "import sys\n",
    "digit_string = sys.argv[1]"
   ]
  },
  {
   "cell_type": "markdown",
   "metadata": {},
   "source": [
    "В переменной digit_string будет содержаться строка “873” (ну или какая-то другая строка, сгенерированная нами, в том числе другой длины). В строке, подаваемой на вход, будут только символы, соответствующие цифрам от 0 до 9.\n",
    "\n",
    "В результате ваша программа должна напечатать на экран сумму цифр (для строки “873” сумма будет 18).\n",
    "\n",
    "То, что полученная программа ведет себя должным образом можно проверить локально, запустив ее следующим образом:"
   ]
  },
  {
   "cell_type": "code",
   "execution_count": null,
   "metadata": {},
   "outputs": [],
   "source": [
    "python3 solution.py 873"
   ]
  },
  {
   "cell_type": "markdown",
   "metadata": {},
   "source": [
    "В списке sys.argv будут лежать аргументы командной строки, sys.argv[0] - имя запущенного файла, sys.argv[1] - строка, сумму цифр которой необходимо посчитать и вывести на экран"
   ]
  },
  {
   "cell_type": "markdown",
   "metadata": {},
   "source": [
    "### PA 1.2 - Рисуем лестницу"
   ]
  },
  {
   "cell_type": "markdown",
   "metadata": {},
   "source": [
    "Эта задачка чуть сложней предыдущей и потребует от вас размышлений. Мы будем рисовать лестницу.\n",
    "\n",
    "На вход ваша программа будет получать количество ступенек."
   ]
  },
  {
   "cell_type": "code",
   "execution_count": null,
   "metadata": {},
   "outputs": [],
   "source": [
    "import sys\n",
    "num_steps = int(sys.argv[1])"
   ]
  },
  {
   "cell_type": "markdown",
   "metadata": {},
   "source": [
    "Ваша цель напечатать на экран лесенку используя символы пробела \" \" и решетки \"#\". Например, для входного параметра (количества ступенек) 4 лесенка должна выглядеть следующим образом:"
   ]
  },
  {
   "cell_type": "code",
   "execution_count": null,
   "metadata": {},
   "outputs": [],
   "source": [
    "   #\n",
    "  ##\n",
    " ###\n",
    "####"
   ]
  },
  {
   "cell_type": "markdown",
   "metadata": {},
   "source": [
    "Конечно, мы будем подавать на вход вашей программе разное количество ступенек."
   ]
  },
  {
   "cell_type": "markdown",
   "metadata": {},
   "source": [
    "### PA 1.3 - Корни квадратного уравнения"
   ]
  },
  {
   "cell_type": "markdown",
   "metadata": {},
   "source": [
    "Python очень активно применяют ученые со всего мира в своих исследованиях. В этом задании мы с вами попробуем с помощью Python найти корни квадратного уравнения.\n",
    "\n",
    "Напомним, что квадратное уравнение выглядит следующим образом:\n",
    "\n",
    "$ax^2 + bx + c = 0$\n",
    "\n",
    "На вход программе мы подадим коэффициенты a, b и c - ваша цель напечатать 2 корня квадратного уравнения (каждый с новой строки).\n",
    "\n",
    "Если вы не помните формулу (а мы и сами ее не помним!), позволяющую найти корни такого уравнения, обратитесь за помощью к статье в [Википедии](https://ru.wikipedia.org/wiki/%D0%9A%D0%B2%D0%B0%D0%B4%D1%80%D0%B0%D1%82%D0%BD%D0%BE%D0%B5_%D1%83%D1%80%D0%B0%D0%B2%D0%BD%D0%B5%D0%BD%D0%B8%D0%B5).\n",
    "\n",
    "Чтобы не усложнять вашу задачу все коэффициенты, которые мы будем подавать вам на вход являются коэффициентами, которые в итоге дают 2 целых корня квадратного уравнения.\n",
    "\n",
    "Коэффициенты a, b, c вы можете получить следующим образом:"
   ]
  },
  {
   "cell_type": "code",
   "execution_count": null,
   "metadata": {},
   "outputs": [],
   "source": [
    "import sys\n",
    "a = int(sys.argv[1])\n",
    "b = int(sys.argv[2])\n",
    "c = int(sys.argv[3])"
   ]
  },
  {
   "cell_type": "markdown",
   "metadata": {},
   "source": [
    "Вывод вашей программы для коэффициентов a = 1, b = -3, c = -4:"
   ]
  },
  {
   "cell_type": "code",
   "execution_count": null,
   "metadata": {},
   "outputs": [],
   "source": [
    "-1\n",
    "4"
   ]
  },
  {
   "cell_type": "markdown",
   "metadata": {},
   "source": [
    "Корни должны быть приведены к целочисленному виду перед выводом на экран, порядок вывода корней произвольный. Успехов в решении!"
   ]
  },
  {
   "cell_type": "markdown",
   "metadata": {},
   "source": [
    "## Week 2 - Структуры данных и функции"
   ]
  },
  {
   "cell_type": "markdown",
   "metadata": {},
   "source": [
    "### PA 2.1 - Key-value хранилище"
   ]
  },
  {
   "cell_type": "markdown",
   "metadata": {},
   "source": [
    "На этой неделе мы с вами реализуем собственный key-value storage. Вашей задачей будет написать скрипт, который принимает в качестве аргументов ключи и значения и выводит информацию из хранилища (в нашем случае — из файла)."
   ]
  },
  {
   "cell_type": "markdown",
   "metadata": {},
   "source": [
    "**Запись значения по ключу**\n",
    "\n",
    "> storage.py --key key_name --val value\n",
    "\n",
    "**Получение значения по ключу**\n",
    "\n",
    "> storage.py --key key_name\n",
    "\n",
    "или\n",
    "\n",
    "> value_1, value_2\n",
    "\n",
    "если значений по этому ключу было записано несколько. Метрики сохраняйте в порядке их добавления. Обратите внимание на пробел после запятой.\n",
    "\n",
    "Если значений по ключу не было найдено, выводите пустую строку или None.\n",
    "\n",
    "Для работы с аргументами командной строки используйте модуль [argparse](https://docs.python.org/3/howto/argparse.html). Вашей задачей будет считать аргументы, переданные вашей программе, и записать соответствующую пару ключ-значение в файл хранилища или вывести значения, если был передан только ключ. Хранить данные вы можете в формате JSON с помощью стандартного модуля [json](https://docs.python.org/3/library/json.html). Проверьте добавление нескольких ключей и разных значений.\n",
    "\n",
    "Файл следует создавать с помощью модуля [tempfile](https://docs.python.org/3/library/tempfile.html)."
   ]
  },
  {
   "cell_type": "code",
   "execution_count": null,
   "metadata": {},
   "outputs": [],
   "source": [
    "import os\n",
    "import tempfile\n",
    "\n",
    "storage_path = os.path.join(tempfile.gettempdir(), 'storage.data')\n",
    "with open(storage_path, 'w') as f:\n",
    "  ..."
   ]
  },
  {
   "cell_type": "markdown",
   "metadata": {},
   "source": [
    "Создайте скрипт хранилища и загрузите его на платформу."
   ]
  },
  {
   "cell_type": "markdown",
   "metadata": {},
   "source": [
    "### PA 2.2 - Декоратор to_json"
   ]
  },
  {
   "cell_type": "markdown",
   "metadata": {},
   "source": [
    "Чтобы передавать данные между функциями, модулями или разными системами используются форматы данных. Одним из самых популярных форматов является JSON. Напишите декоратор to_json, который можно применить к **различным** функциям, чтобы преобразовывать их возвращаемое значение в JSON-формат. Не забудьте про сохранение корректного имени декорируемой функции."
   ]
  },
  {
   "cell_type": "code",
   "execution_count": null,
   "metadata": {},
   "outputs": [],
   "source": [
    "@to_json\n",
    "def get_data():\n",
    "    return {\n",
    "        'data': 42\n",
    "    }\n",
    "  \n",
    "get_data()  # вернёт '{\"data\": 42}'"
   ]
  },
  {
   "cell_type": "markdown",
   "metadata": {},
   "source": [
    "Опишите декоратор в файле и загрузите его на платформу."
   ]
  },
  {
   "cell_type": "code",
   "execution_count": null,
   "metadata": {},
   "outputs": [],
   "source": []
  }
 ],
 "metadata": {
  "kernelspec": {
   "display_name": "Python 3",
   "language": "python",
   "name": "python3"
  },
  "language_info": {
   "codemirror_mode": {
    "name": "ipython",
    "version": 3
   },
   "file_extension": ".py",
   "mimetype": "text/x-python",
   "name": "python",
   "nbconvert_exporter": "python",
   "pygments_lexer": "ipython3",
   "version": "3.6.3"
  }
 },
 "nbformat": 4,
 "nbformat_minor": 2
}
